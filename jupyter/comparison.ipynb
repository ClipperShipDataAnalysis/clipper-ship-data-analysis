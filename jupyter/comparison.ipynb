{
 "cells": [
  {
   "cell_type": "code",
   "execution_count": 1,
   "metadata": {},
   "outputs": [],
   "source": [
    "import pandas as pd\n",
    "import numpy as np\n",
    "import matplotlib.pyplot as plt"
   ]
  },
  {
   "cell_type": "markdown",
   "metadata": {},
   "source": [
    "Need to figure out how to navigate and clean initial excel sheet, convert to csv"
   ]
  },
  {
   "cell_type": "code",
   "execution_count": 2,
   "metadata": {},
   "outputs": [
    {
     "data": {
      "text/plain": [
       "'TODO\\nfilepath = <SOMETHINGWITHDATABASE>\\n'"
      ]
     },
     "execution_count": 2,
     "metadata": {},
     "output_type": "execute_result"
    }
   ],
   "source": [
    "'''TODO\n",
    "filepath = <SOMETHINGWITHDATABASE>\n",
    "'''"
   ]
  },
  {
   "cell_type": "code",
   "execution_count": 3,
   "metadata": {},
   "outputs": [],
   "source": [
    "orgs = \n",
    "datadict = {\n",
    "0:given = [],\n",
    "1:used = [],\n",
    "2:employed = [],\n",
    "3:housed = [],\n",
    "4:inprogram = [],\n",
    "5:edus = []\n",
    "}"
   ]
  },
  {
   "cell_type": "code",
   "execution_count": 4,
   "metadata": {},
   "outputs": [],
   "source": [
    "filepath = \"sample.xlsx\"\n",
    "data_xls = pd.read_excel(filepath, index_col=None)"
   ]
  },
  {
   "cell_type": "code",
   "execution_count": 5,
   "metadata": {},
   "outputs": [
    {
     "name": "stdout",
     "output_type": "stream",
     "text": [
      "   0                  1              2\n",
      "2  5       Company Name         Google\n",
      "3  6  Quick Description  a tech thingy\n",
      "4  7       Contact Info   idk man yolo\n",
      "     0                                                  1        2\n",
      "7   10  Please Indicate The Amount Of Money Given By C...   300000\n",
      "8   11  Please Indicate The Amount Of Money Used By Cl...  3000000\n",
      "9   12  Please indicate the number of Opportunity Yout...    40000\n",
      "10  13  As appropriate, please indicate the number of ...    60000\n",
      "11  14         Please Indicate Number Of Youth In Program  1000000\n",
      "12  15  Please Indicate Number Of Opportunity Youth ac...    30000\n",
      "['Google']\n"
     ]
    }
   ],
   "source": [
    "# \n",
    "data_xls.to_csv('csvfile.csv')\n",
    "df = pd.read_csv('csvfile.csv', header=3, names=range(3))\n",
    "specifics = df.iloc[2:5]\n",
    "print(specifics)\n",
    "overalls = df.iloc[7:13]\n",
    "print(overalls)\n",
    "table_names = [\"Company Specifics\", \"Overall Numbers\"]\n",
    "groups = df[0].isin(table_names).cumsum()\n",
    "tables = {g.iloc[0,0]: g.iloc[1:] for k,g in df.groupby(groups)}\n",
    "orgs.append(specifics[2].iloc[0])\n",
    "print(orgs)"
   ]
  },
  {
   "cell_type": "code",
   "execution_count": 6,
   "metadata": {},
   "outputs": [
    {
     "name": "stdout",
     "output_type": "stream",
     "text": [
      "[300000, 300000]\n",
      "['Google', 'booger']\n"
     ]
    },
    {
     "data": {
      "image/png": "[encoded data removed]",
      "text/plain": [
       "<Figure size 432x288 with 1 Axes>"
      ]
     },
     "metadata": {
      "needs_background": "light"
     },
     "output_type": "display_data"
    }
   ],
   "source": [
    "for i in range(6):\n",
    "    overalls[1] \n",
    "given = []\n",
    "orgs.append(\"booger\")\n",
    "given.append(300000)\n",
    "given.append(int(overalls[2].iloc[0]))\n",
    "print(given)\n",
    "print(orgs)\n",
    "plt.bar(orgs, given, color = \"maroon\")\n",
    "plt.title(\"Amount of Money Given by Clipper Ship per Organization\")\n",
    "plt.xlabel(\"Organization\")\n",
    "plt.ylabel(\"Money\")\n",
    "plt.show()\n"
   ]
  },
  {
   "cell_type": "code",
   "execution_count": null,
   "metadata": {},
   "outputs": [],
   "source": []
  },
  {
   "cell_type": "code",
   "execution_count": null,
   "metadata": {},
   "outputs": [],
   "source": []
  }
 ],
 "metadata": {
  "kernelspec": {
   "display_name": "Python 3",
   "language": "python",
   "name": "python3"
  },
  "language_info": {
   "codemirror_mode": {
    "name": "ipython",
    "version": 3
   },
   "file_extension": ".py",
   "mimetype": "text/x-python",
   "name": "python",
   "nbconvert_exporter": "python",
   "pygments_lexer": "ipython3",
   "version": "3.10.8 (tags/v3.10.8:aaaf517, Oct 11 2022, 16:50:30) [MSC v.1933 64 bit (AMD64)]"
  },
  "vscode": {
   "interpreter": {
    "hash": "9d1af5a4960a96d7621722435ce13e2a5fde01041db7fd0603c44397b4f28380"
   }
  }
 },
 "nbformat": 4,
 "nbformat_minor": 4
}
