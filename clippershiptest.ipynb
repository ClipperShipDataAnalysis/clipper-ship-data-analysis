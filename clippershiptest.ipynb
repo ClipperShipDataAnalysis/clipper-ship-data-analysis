{
 "cells": [
  {
   "cell_type": "code",
   "execution_count": 1,
   "metadata": {},
   "outputs": [],
   "source": [
    "import pandas as pd\n",
    "import numpy as np"
   ]
  },
  {
   "cell_type": "markdown",
   "metadata": {},
   "source": [
    "Need to figure out how to navigate and clean initial excel sheet, convert to csv"
   ]
  },
  {
   "cell_type": "code",
   "execution_count": 2,
   "metadata": {},
   "outputs": [
    {
     "data": {
      "text/plain": [
       "'TODO\\nfilepath = <SOMETHINGWITHDATABASE>\\n'"
      ]
     },
     "execution_count": 2,
     "metadata": {},
     "output_type": "execute_result"
    }
   ],
   "source": [
    "'''TODO\n",
    "filepath = <SOMETHINGWITHDATABASE>\n",
    "'''"
   ]
  },
  {
   "cell_type": "code",
   "execution_count": 3,
   "metadata": {},
   "outputs": [],
   "source": [
    "filepath = \"sample.xlsx\"\n",
    "data_xls = pd.read_excel(filepath, index_col=None)"
   ]
  },
  {
   "cell_type": "code",
   "execution_count": 26,
   "metadata": {},
   "outputs": [
    {
     "name": "stdout",
     "output_type": "stream",
     "text": [
      "   0                  1              2\n",
      "2  5       Company Name         Google\n",
      "3  6  Quick Description  a tech thingy\n",
      "4  7       Contact Info   idk man yolo\n",
      "     0                                                  1        2\n",
      "7   10  Please Indicate The Amount Of Money Given By C...   300000\n",
      "8   11  Please Indicate The Amount Of Money Used By Cl...  3000000\n",
      "9   12  Please indicate the number of Opportunity Yout...    40000\n",
      "10  13  As appropriate, please indicate the number of ...    60000\n",
      "11  14         Please Indicate Number Of Youth In Program  1000000\n",
      "12  15  Please Indicate Number Of Opportunity Youth ac...    30000\n"
     ]
    }
   ],
   "source": [
    "# \n",
    "data_xls.to_csv('csvfile.csv')\n",
    "df = pd.read_csv('csvfile.csv', header=3, names=range(3))\n",
    "specifics = df.iloc[2:5]\n",
    "print(specifics)\n",
    "overalls = df.iloc[7:13]\n",
    "print(overalls)\n",
    "table_names = [\"Company Specifics\", \"Overall Numbers\"]\n",
    "groups = df[0].isin(table_names).cumsum()\n",
    "tables = {g.iloc[0,0]: g.iloc[1:] for k,g in df.groupby(groups)}"
   ]
  },
  {
   "cell_type": "code",
   "execution_count": 29,
   "metadata": {},
   "outputs": [
    {
     "data": {
      "text/plain": [
       "0                                                   12\n",
       "1    Please indicate the number of Opportunity Yout...\n",
       "2                                                40000\n",
       "Name: 9, dtype: object"
      ]
     },
     "execution_count": 29,
     "metadata": {},
     "output_type": "execute_result"
    }
   ],
   "source": []
  },
  {
   "cell_type": "code",
   "execution_count": null,
   "metadata": {},
   "outputs": [],
   "source": []
  }
 ],
 "metadata": {
  "kernelspec": {
   "display_name": "Python 3",
   "language": "python",
   "name": "python3"
  },
  "language_info": {
   "codemirror_mode": {
    "name": "ipython",
    "version": 3
   },
   "file_extension": ".py",
   "mimetype": "text/x-python",
   "name": "python",
   "nbconvert_exporter": "python",
   "pygments_lexer": "ipython3",
   "version": "3.8.3"
  }
 },
 "nbformat": 4,
 "nbformat_minor": 4
}
